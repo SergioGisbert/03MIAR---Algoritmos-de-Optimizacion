{
  "nbformat": 4,
  "nbformat_minor": 0,
  "metadata": {
    "colab": {
      "provenance": [],
      "include_colab_link": true
    },
    "kernelspec": {
      "name": "python3",
      "display_name": "Python 3"
    }
  },
  "cells": [
    {
      "cell_type": "markdown",
      "metadata": {
        "id": "view-in-github",
        "colab_type": "text"
      },
      "source": [
        "<a href=\"https://colab.research.google.com/github/SergioGisbert/03MIAR---Algoritmos-de-Optimizacion/blob/main/Trabajo_Pr%C3%A1ctico_Algoritmos_de_Optimizaci%C3%B3n.ipynb\" target=\"_parent\"><img src=\"https://colab.research.google.com/assets/colab-badge.svg\" alt=\"Open In Colab\"/></a>"
      ]
    },
    {
      "cell_type": "markdown",
      "metadata": {
        "id": "hVbXYX-RfPWh"
      },
      "source": [
        "# Algoritmos de optimización - Trabajo Práctico<br>\n",
        "Nombre y Apellidos: Sergio Gisbert Blasco  <br>\n",
        "Url: https://github.com/.../03MAIR---Algoritmos-de-Optimizacion---/tree/master/TrabajoPractico<br>\n",
        "Google Colab: https://colab.research.google.com/drive/1O-mprLjrH9bb2zz_crtwrEkBRkYB6f4G?usp=sharing <br>\n",
        "Problema:\n",
        ">1. Sesiones de doblaje <br>\n",
        ">2. Organizar los horarios de partidos de una jornada de La Liga<br>\n",
        ">3. Configuración de Tribunales\n",
        "\n",
        "Descripción del problema: <br> <br>\n",
        "**Sesiones de doblaje**. Se precisa coordinar el doblaje de una película. Los actores del doblaje deben coincidir en las\n",
        "tomas en las que sus personajes aparecen juntos en las diferentes tomas. Los actores de\n",
        "doblaje cobran todos la misma cantidad por cada día que deben desplazarse hasta el estudio de\n",
        "grabación independientemente del número de tomas que se graben. No es posible grabar más\n",
        "de 6 tomas por día. El objetivo es planificar las sesiones por día de manera que el gasto por los\n",
        "servicios de los actores de doblaje sea el menor posible. Los datos son:\n",
        "\n",
        "Número de actores: 10 <br>\n",
        "Número de tomas : 30 <br>\n",
        "Actores/Tomas : https://bit.ly/36D8IuK <br>\n",
        "....\n",
        "\n",
        "\n",
        "\n",
        "\n",
        "\n",
        "\n",
        "\n",
        "                                        "
      ]
    },
    {
      "cell_type": "code",
      "source": [
        "import numpy as np\n",
        "import pandas as pd\n",
        "import matplotlib.pyplot as plt\n",
        "import random\n",
        "import time"
      ],
      "metadata": {
        "id": "uyTFPE8DZCQ9"
      },
      "execution_count": 19,
      "outputs": []
    },
    {
      "cell_type": "code",
      "source": [
        "mock_shot_matrix = np.array([[1, 1, 1, 1, 1, 0, 0, 0, 0, 0,],\n",
        " [0, 0, 1, 1, 1, 0, 0, 0, 0, 0,],\n",
        " [0, 1, 0, 0, 1, 0, 1, 0, 0, 0,],\n",
        " [1, 1, 0, 0, 0, 0, 1, 1, 0, 0,],\n",
        " [0, 1, 0, 1, 0, 0, 0, 1, 0, 0,],\n",
        " [1, 1, 0, 1, 1, 0, 0, 0, 0, 0,],\n",
        " [1, 1, 0, 1, 1, 0, 0, 0, 0, 0,],\n",
        " [1, 1, 0, 0, 0, 1, 0, 0, 0, 0,],\n",
        " [1, 1, 0, 1, 0, 0, 0, 0, 0, 0,],\n",
        " [1, 1, 0, 0, 0, 1, 0, 0, 1, 0,],\n",
        " [1, 1, 1, 0, 1, 0, 0, 1, 0, 0,],\n",
        " [1, 1, 1, 1, 0, 1, 0, 0, 0, 0,],\n",
        " [1, 0, 0, 1, 1, 0, 0, 0, 0, 0,],\n",
        " [1, 0, 1, 0, 0, 1, 0, 0, 0, 0,],\n",
        " [1, 1, 0, 0, 0, 0, 1, 0, 0, 0,],\n",
        " [0, 0, 0, 1, 0, 0, 0, 0, 0, 1,],\n",
        " [1, 0, 1, 0, 0, 0, 0, 0, 0, 0,],\n",
        " [0, 0, 1, 0, 0, 1, 0, 0, 0, 0,],\n",
        " [1, 0, 1, 0, 0, 0, 0, 0, 0, 0,],\n",
        " [1, 0, 1, 1, 1, 0, 0, 0, 0, 0,],\n",
        " [0, 0, 0, 0, 0, 1, 0, 1, 0, 0,],\n",
        " [1, 1, 1, 1, 0, 0, 0, 0, 0, 0,],\n",
        " [1, 0, 1, 0, 0, 0, 0, 0, 0, 0,],\n",
        " [0, 0, 1, 0, 0, 1, 0, 0, 0, 0,],\n",
        " [1, 1, 0, 1, 0, 0, 0, 0, 0, 1,],\n",
        " [1, 0, 1, 0, 1, 0, 0, 0, 1, 0,],\n",
        " [0, 0, 0, 1, 1, 0, 0, 0, 0, 0,],\n",
        " [1, 0, 0, 1, 0, 0, 0, 0, 0, 0,],\n",
        " [1, 0, 0, 0, 1, 1, 0, 0, 0, 0,],\n",
        " [1, 0, 0, 1, 0, 0, 0, 0, 0, 0,]])"
      ],
      "metadata": {
        "id": "rziUTu-qfFKM"
      },
      "execution_count": 20,
      "outputs": []
    },
    {
      "cell_type": "markdown",
      "source": [
        "#Modelo\n",
        "- ¿Como represento el espacio de soluciones?\n",
        "- ¿Cual es la función objetivo?\n",
        "- ¿Como implemento las restricciones?"
      ],
      "metadata": {
        "id": "Sbo9IqQtpaHZ"
      }
    },
    {
      "cell_type": "markdown",
      "source": [
        "### ¿Cómo represento el espacio de soluciones?\n",
        "El espacio de soluciones se representa como una **matriz de población**, donde cada fila corresponde a un día de grabación y contiene los identificadores de las tomas (de 1 a 30). Cada posible combinación de asignaciones de tomas por día constituye una solución dentro del espacio.\n",
        "\n",
        "$$ T_i = \\{Dias: \\ d_i, \\ Tomas: (t_1,t_2,t_3,t_4,t_5,t_6)\\}$$\n",
        "\n",
        "---\n",
        "\n",
        "### ¿Cuál es la función objetivo?\n",
        "La función objetivo es **minimizar el costo total de los servicios de los actores de doblaje**, que se calcula como el número total de días en los que los actores necesitan desplazarse ($n$) al estudio (representado por el número de filas en la matriz de población que tienen al menos una toma).\n",
        "\n",
        "$$min \\sum_{j=0}^{9} n_j$$\n",
        "\n",
        "\n",
        "### ¿Cómo implemento las restricciones?\n",
        "1. **Tomas por día:**  \n",
        "   La restricción está integrada al inicializar la matriz de población con 6 columnas, cada una representando las tomas asignadas para ese día.\n",
        "\n",
        "2. **Los actores coinciden en las tomas:**  \n",
        "   Las interacciones entre actores están modeladas en la matriz de medición (`shot_matrix`), que define qué actores están presentes en cada toma. Esto asegura que los actores estén asignados adecuadamente en días compartidos.\n"
      ],
      "metadata": {
        "id": "67p_vszBposu"
      }
    },
    {
      "cell_type": "markdown",
      "source": [
        "#Análisis\n",
        "- ¿Que complejidad tiene el problema?. Orden de complejidad y Contabilizar el espacio de soluciones"
      ],
      "metadata": {
        "id": "HZz52wOppp-U"
      }
    },
    {
      "cell_type": "markdown",
      "source": [
        "1. **Complejidad temporal:**    \n",
        "   Teniendo en cuenta que se trata de un problema de combinatoria sin repeticiones, podemos concluir que este problema es de orden factorial.\n",
        "   $$O(n) = n!$$\n",
        "   <br>\n",
        "2. **Espacio de soluciones:**  \n",
        "   Dado que cada día puede contener hasta 6 tomas y el número total de tomas es 30, el espacio de soluciones es:  <br><br>\n",
        "   $$\n",
        "   \\binom{30}{6} \\cdot \\binom{24}{6} \\cdot \\dots \\cdot \\binom{6}{6}\n",
        "   $$\n",
        "   <br>\n",
        "   Esto crece factorialmente, lo que hace que el problema sea NP dificil (combinatorial).\n",
        "\n"
      ],
      "metadata": {
        "id": "I5kDWttWZa8a"
      }
    },
    {
      "cell_type": "markdown",
      "source": [
        "#Diseño\n",
        "- ¿Que técnica utilizo? ¿Por qué?"
      ],
      "metadata": {
        "id": "ixEJUwH_pv7M"
      }
    },
    {
      "cell_type": "markdown",
      "source": [
        "1. **¿Qué técnica utilizo?**  \n",
        "Se utiliza un **algoritmo genético**. Por una parte, se emplea elitismo en la etapa de selección. Por otra, tanto el cruce como la mutación se basan en un componente aleatorio. Además, durante la búsqueda se exploran soluciones cercanas a la mejor encontrada hasta el momento.\n",
        "\n",
        "2. **¿Por qué?**  \n",
        "Las características de este problema permiten una representación natural en términos de genes (matrices de días y tomas). Además, esta técnica funciona bien en problemas de optimización combinatoria, como la asignación de recursos o tareas, y tiene la capacidad de encontrar soluciones aproximadas en un tiempo razonable, incluso para espacios de soluciones grandes. En cuanto a su implementación, los algoritmos genéticos facilitan la incorporación de restricciones necesarias (como el número máximo de tomas por día).\n",
        "\n",
        "\n"
      ],
      "metadata": {
        "id": "7EKQHIkjeju6"
      }
    },
    {
      "cell_type": "code",
      "source": [
        "# Inicializar población aleatoriamente\n",
        "def initialize_population_matrix():\n",
        "    individuals = np.arange(1, 31)\n",
        "    np.random.shuffle(individuals)\n",
        "\n",
        "    return individuals.reshape(5, 6)\n",
        "\n",
        "# Devuelve el numero de individuos de elite según el total de viajes actual\n",
        "def select_count(actual_trips):\n",
        "    max_trips = 50\n",
        "    return round((max_trips - actual_trips) / 10)\n",
        "\n",
        "# Devuelve los n peores individuos\n",
        "def get_losers(fitness_values, total_trips):\n",
        "    fitness_copy = fitness_values.copy()\n",
        "    num_winners = select_count(total_trips)\n",
        "    fitness_copy[np.argsort(fitness_values, kind='quicksort')[-num_winners:]] = np.nan\n",
        "\n",
        "    return np.where(~np.isnan(fitness_copy))[0]\n",
        "\n",
        "# Realiza el cruce entre los individuos perdedores\n",
        "def random_crossover(population_matrix, losers_indices):\n",
        "    shuffled_indices = np.random.choice(losers_indices, size=len(losers_indices), replace=False)\n",
        "\n",
        "    for i, index in enumerate(shuffled_indices):\n",
        "        if i < len(shuffled_indices) - 1:\n",
        "            temp_first_half = population_matrix[shuffled_indices[i], :3].copy()\n",
        "            temp_second_half = population_matrix[shuffled_indices[i + 1], 3:].copy()\n",
        "            population_matrix[shuffled_indices[i], :3] = temp_second_half.copy()\n",
        "            population_matrix[shuffled_indices[i + 1], 3:] = temp_first_half.copy()\n",
        "        else:\n",
        "            temp_first_half = population_matrix[shuffled_indices[i], :3].copy()\n",
        "            temp_second_half = population_matrix[shuffled_indices[0], 3:].copy()\n",
        "            population_matrix[shuffled_indices[i], :3] = temp_second_half.copy()\n",
        "            population_matrix[shuffled_indices[0], 3:] = temp_first_half.copy()\n",
        "\n",
        "    return population_matrix\n",
        "\n",
        "# Realiza la mutación entre los individuos perdedores\n",
        "def random_mutation(population_matrix, losers_indices):\n",
        "    random_index = random.randint(0, 5)\n",
        "    first_value = population_matrix[losers_indices[0]][random_index].copy()\n",
        "    for i, index in enumerate(losers_indices):\n",
        "        if i < (len(losers_indices) - 1):\n",
        "            next_value = population_matrix[losers_indices[i + 1]][random_index].copy()\n",
        "            population_matrix[losers_indices[i]][random_index] = next_value\n",
        "        else:\n",
        "            population_matrix[losers_indices[i]][random_index] = first_value\n",
        "    return population_matrix\n",
        "\n",
        "# Función fitness\n",
        "def fitness(population_matrix, shot_matrix, total_shots):\n",
        "    fitness_values = np.array(list())\n",
        "    trip_per_actor = np.array(list())\n",
        "    for i in range(population_matrix.shape[0]):\n",
        "        actor_fitness = np.sum(shot_matrix[population_matrix[i] - 1], axis=0) / total_shots # Vector de porcentajes de tomas rodadas por actor\n",
        "\n",
        "        trip_per_actor = (np.append(trip_per_actor, [actor_fitness], axis=0)  # Guardar el fitness de los actores\n",
        "            if trip_per_actor.size else np.array([actor_fitness]))\n",
        "\n",
        "        daily_fitness = np.sum(actor_fitness, axis=0) # Fitness por dia\n",
        "\n",
        "        fitness_values = np.append(fitness_values, daily_fitness) #Guardar fitness por dia\n",
        "\n",
        "    trip_per_actor[trip_per_actor > 0] = 1 # Viajes de necesarios por actor\n",
        "\n",
        "    return fitness_values, np.sum(trip_per_actor)"
      ],
      "metadata": {
        "id": "ZdKPjB9gp2BA"
      },
      "execution_count": 21,
      "outputs": []
    },
    {
      "cell_type": "code",
      "source": [
        "# Inicializar variables\n",
        "shot_matrix = mock_shot_matrix\n",
        "total_shot = np.sum(shot_matrix, axis=0) # Total de tomas por actor\n",
        "\n",
        "population_matrix = initialize_population_matrix() # Población\n",
        "\n",
        "time_since_reset = 0 # Segundos sin encontrar una mejor solución\n",
        "margin_time = 3 # Máximo margen de segundos para encontrar una mejor solución\n",
        "total_trips = 50 # Total de viajes\n",
        "\n",
        "final_population_matrix = population_matrix # Matriz final de población\n",
        "best_fitness = total_trips # Mejor resultados de viajes total\n",
        "\n",
        "while time_since_reset < margin_time:\n",
        "    # Calcular fitness\n",
        "    fitness_values, total_trips = fitness(population_matrix, shot_matrix, total_shot)\n",
        "    #print(\"total trips\"+str(total_trips))\n",
        "    #print(\"fitness values\"+str(fitness_values))\n",
        "\n",
        "    # Guardar la mejor solución\n",
        "    if total_trips < best_fitness:\n",
        "        best_fitness = total_trips\n",
        "        final_population_matrix = population_matrix\n",
        "        reset_time = time.time()\n",
        "\n",
        "    # Encontrar soluciones cercanas a la mejor hasta el momento\n",
        "    lost_margin = 2\n",
        "    if(total_trips > (best_fitness + lost_margin)):\n",
        "        population_matrix = final_population_matrix\n",
        "\n",
        "\n",
        "    # Selección (Elitismo)\n",
        "    loser_vector = get_losers(fitness_values, total_trips)\n",
        "    #print(\"loser's vector\"+str(losers_vector))\n",
        "\n",
        "    # Cruce (dos padres aleatorios)\n",
        "    population_matrix = random_crossover(population_matrix, loser_vector)\n",
        "    #print(\"popoluation's matrix\"+ str(population_matrix))\n",
        "\n",
        "    # Mutación (Random)\n",
        "    population_matrix = random_mutation(population_matrix, loser_vector)\n",
        "    #print(\"mutated: \" + str(population_matrix))\n",
        "\n",
        "    #fitness_values_total = np.append(fitness_values_total, total_trips)\n",
        "\n",
        "    end_time = time.time()\n",
        "    time_since_reset = end_time - reset_time\n",
        "\n",
        "\n",
        "print(\"Viajes: \" + str(int(best_fitness)))\n",
        "print(\"Gasto por el servicio a actores: \"+ str(best_fitness*6) +\" euros.\")\n",
        "print(\"\\nResult:\")\n",
        "\n",
        "for i in range(len(final_population_matrix)):\n",
        "    print(\"\\nDía: \"+ str(i+1))\n",
        "    print(\"Tomas: \"+ str(final_population_matrix[i]))"
      ],
      "metadata": {
        "colab": {
          "base_uri": "https://localhost:8080/"
        },
        "id": "YZ7YTzo1euVb",
        "outputId": "6426094f-a69b-44be-e99a-51a570639f4a"
      },
      "execution_count": 28,
      "outputs": [
        {
          "output_type": "stream",
          "name": "stdout",
          "text": [
            "Viajes: 31\n",
            "Gasto por el servicio a actores: 186.0 euros.\n",
            "\n",
            "Result:\n",
            "\n",
            "Día: 1\n",
            "Tomas: [ 8 20  4 17 24 16]\n",
            "\n",
            "Día: 2\n",
            "Tomas: [18  5  7 14  2 23]\n",
            "\n",
            "Día: 3\n",
            "Tomas: [11 21 10 25  6  3]\n",
            "\n",
            "Día: 4\n",
            "Tomas: [19 27 13  1 22 29]\n",
            "\n",
            "Día: 5\n",
            "Tomas: [26 30 12 15  9 28]\n"
          ]
        }
      ]
    }
  ]
}